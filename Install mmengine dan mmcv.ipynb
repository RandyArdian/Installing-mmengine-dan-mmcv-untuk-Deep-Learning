from google.colab import drive
drive.flush_and_unmount()  # lepas
drive.mount('/content/gdrive')
